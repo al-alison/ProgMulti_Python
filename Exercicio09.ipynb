{
 "cells": [
  {
   "cell_type": "markdown",
   "metadata": {},
   "source": [
    "1. Faça um Programa que peça dois números e imprima o maior deles."
   ]
  },
  {
   "cell_type": "code",
   "execution_count": null,
   "metadata": {},
   "outputs": [],
   "source": [
    "n1 = int(input(\"Digite o primeiro número:\"))\n",
    "n2 = int(input(\"Digite o segundo número:\"))\n",
    "\n",
    "if n1>n2:\n",
    "    print(f'O maior número é: {n1}')\n",
    "else:\n",
    "    print(f'O maior número é: {n2}')"
   ]
  },
  {
   "cell_type": "markdown",
   "metadata": {},
   "source": [
    "#2. Faça um Programa que verifique se uma letra digitada é vogal ou consoante"
   ]
  },
  {
   "cell_type": "code",
   "execution_count": null,
   "metadata": {},
   "outputs": [],
   "source": [
    "l1 = input(\"Digite uma letra:\")\n",
    "\n",
    "if (l1 == 'a' or l1 == 'e' or l1 == 'i' or l1=='o' or l1 =='u' or l1 == 'A' or l1 == 'E' or l1 == 'I' or l1=='O' or l1 =='U'):\n",
    "    print(f'A letra digitada é uma vogal.')\n",
    "else:\n",
    "    print(f'A letra digitada é uma consoante.')"
   ]
  },
  {
   "cell_type": "markdown",
   "metadata": {},
   "source": [
    "#3. Faça um programa para a leitura de duas notas parciais de um aluno. O programa\n",
    "deve calcular a média alcançada por aluno e apresentar:\n",
    " - A mensagem \"Aprovado\", se a média alcançada for maior ou igual a sete;\n",
    " - A mensagem \"Reprovado\", se a média for menor do que sete;\n",
    " - A mensagem \"Aprovado com Distinção\", se a média for igual a dez."
   ]
  },
  {
   "cell_type": "code",
   "execution_count": null,
   "metadata": {},
   "outputs": [],
   "source": [
    "n1 = float(input(\"Digite a primeira nota:\"))\n",
    "n2 = float(input(\"Digite a segunda nota:\"))\n",
    "\n",
    "n3 = (n1+n2)/2\n",
    "\n",
    "if n3==10:\n",
    "    print(f'Aprovado com Distinção! média {n3}')\n",
    "elif n3<7:\n",
    "    print(f'Reprovado! média {n3}')\n",
    "else:\n",
    "     print(f'Aprovado! média {n3}')\n"
   ]
  },
  {
   "cell_type": "markdown",
   "metadata": {},
   "source": [
    "### 4.Faça um Programa que leia três números e mostre-os em ordem decrescente"
   ]
  },
  {
   "cell_type": "code",
   "execution_count": null,
   "metadata": {},
   "outputs": [],
   "source": [
    "n1 = int(input(\"Digite o primeiro número:\"))\n",
    "n2 = int(input(\"Digite o segundo número:\"))\n",
    "n3 = int(input(\"Digite o terceiro número:\"))\n",
    "\n",
    "if n1>n2 and n1>n3:\n",
    "    if n2>n3:\n",
    "        print(f'{n1} ,{n2}, {n3}')\n",
    "    else:\n",
    "        print(f'{n1}, {n3}, {n2}')\n",
    "elif n2>n1 and n2 > n3:\n",
    "    if n1>n3:\n",
    "        print(f'{n2}, {n1}, {n3}')\n",
    "    else:\n",
    "        print(f'{n2}, {n3}, {n1}')\n",
    "else:\n",
    "    if n1>n2:\n",
    "        print(f'{n3}, {n1}, {n2}')\n",
    "    else:\n",
    "        print (f'{n3}, {n2}, {n1}')"
   ]
  },
  {
   "cell_type": "markdown",
   "metadata": {
    "collapsed": true
   },
   "source": [
    "#### 6. Faça um Programa que leia um número e exiba o dia correspondente da semana.\n",
    "(1-Domingo, 2- Segunda, etc.), se digitar outro valor deve aparecer valor inválido."
   ]
  },
  {
   "cell_type": "code",
   "execution_count": null,
   "metadata": {},
   "outputs": [],
   "source": [
    "l1 = int(input(\"Digite um número correspondente do dia da semana:\"))\n",
    "\n",
    "if l1 == 1:\n",
    "    print('Domingo')\n",
    "elif l1 == 2:\n",
    "    print('Segunda')\n",
    "elif l1 == 3:\n",
    "    print('Terça')\n",
    "elif l1 == 4:\n",
    "    print('Quarta')\n",
    "elif l1 == 5:\n",
    "    print('Quinta')\n",
    "elif l1 == 6:\n",
    "    print ('Sexta')\n",
    "elif l1 == 7:\n",
    "    print('Sabado')\n",
    "else:\n",
    "    print('Valor inválido')"
   ]
  },
  {
   "cell_type": "markdown",
   "metadata": {
    "collapsed": true
   },
   "source": [
    "#### 7. Faça um programa que lê as duas notas parciais obtidas por um aluno numa\n",
    "disciplina ao longo de um semestre, e calcule a sua média. A atribuição de conceitos\n",
    "obedece à tabela abaixo:\n",
    " Média de Aproveitamento Conceito\n",
    " Entre 9.0 e 10.0 A\n",
    " Entre 7.5 e 9.0 B\n",
    " Entre 6.0 e 7.5 C\n",
    " Entre 4.0 e 6.0 D\n",
    " Entre 4.0 e zero E\n",
    "O algoritmo deve mostrar na tela as notas, a média, o conceito correspondente e a\n",
    "mensagem "
   ]
  },
  {
   "cell_type": "code",
   "execution_count": null,
   "metadata": {},
   "outputs": [],
   "source": [
    "nota1 = int(input('Digite a primeira nota: '))\n",
    "nota2 = int(input('Digite a segunda nota: '))\n",
    "\n",
    "media = (nota1+nota2)/2\n",
    "if media>9:\n",
    "    conceito = 'A'\n",
    "    status = 'Aprovado'\n",
    "elif media>7.5:\n",
    "    conceito = 'B'\n",
    "    status = 'Aprovado'\n",
    "elif media>6:\n",
    "    conceito = 'C'\n",
    "    status = 'Aprovado'\n",
    "elif media>4:\n",
    "    conceito = 'D'\n",
    "    status = 'Reprovado'\n",
    "else:\n",
    "    conceito = 'E'\n",
    "    status = 'Reprovado'\n",
    "\n",
    "print(f'Nota 1: {nota1}, Nota 2: {nota2}, Média: {media}, Conceito: {conceito}, {status}')"
   ]
  },
  {
   "cell_type": "markdown",
   "metadata": {},
   "source": [
    "#### 8. Faça um Programa que peça os 3 lados de um triângulo. O programa deverá\n",
    "informar se os valores podem ser um triângulo. Indique, caso os lados formem um\n",
    "triângulo, se o mesmo é: equilátero, isósceles ou escaleno.\n",
    "Dicas:\n",
    "- Três lados formam um triângulo quando a soma de quaisquer dois lados for maior\n",
    "que o terceiro;\n",
    "- Triângulo Equilátero: três lados iguais;\n",
    "- Triângulo Isósceles: quaisquer dois lados iguais;\n",
    "- Triângulo Escaleno: três lados diferentes;"
   ]
  },
  {
   "cell_type": "code",
   "execution_count": null,
   "metadata": {},
   "outputs": [],
   "source": [
    "lado1 = input (\"Primeiro lado: \")\n",
    "lado2 = input (\"Segundo lado: \")\n",
    "lado3 = input (\"Terceiro lado: \")\n",
    "\n",
    "if lado1 == lado2 and lado2 == lado3:\n",
    "    print(\"Triangulo equilátero\")\n",
    "elif lado1 == lado2 or lado2 == lado3:\n",
    "    print(\"Triangulo Isósceles\")\n",
    "elif lado1 != lado2 and lado2 != lado3:\n",
    "    print(\"Triangulo Escaleno\")\n"
   ]
  },
  {
   "cell_type": "markdown",
   "metadata": {},
   "source": [
    "#### 11. Faça um programa que faça 5 perguntas para uma pessoa sobre um crime. As\n",
    "perguntas são:\n",
    "\"Telefonou para a vítima?\"\n",
    "\"Esteve no local do crime?\"\n",
    "\"Mora perto da vítima?\"\n",
    "\"Devia para a vítima?\"\n",
    "\"Já trabalhou com a vítima?\"\n",
    "O programa deve no final emitir uma classificação sobre a participação da pessoa no\n",
    "crime. Se a pessoa responder positivamente a 2 questões ela deve ser classificada\n",
    "como \"Suspeita\", entre 3 e 4 como \"Cúmplice\" e 5 como \"Assassino\". Caso contrário,\n",
    "ele será classificado como \"Inocente\"."
   ]
  },
  {
   "cell_type": "code",
   "execution_count": null,
   "metadata": {},
   "outputs": [],
   "source": [
    "resposta1 = input(\"Telefonou para a vitima?\")\n",
    "resposta2 = input(\"Esteve no local do crime?\")\n",
    "resposta3 = input(\"Mora perto da vitima?\")\n",
    "resposta4 = input(\"Devia para a vitima?\")\n",
    "resposta5 = input(\"Já trabalhou com a vitima?\")\n",
    "\n",
    "contaResp = 0;\n",
    "\n",
    "if resposta1 == 'Sim' or resposta1=='sim':\n",
    "    contaResp +=1 \n",
    "if resposta2 == 'Sim' or resposta2=='sim':\n",
    "    contaResp +=1 \n",
    "if resposta3 == 'Sim' or resposta3=='sim':\n",
    "    contaResp +=1 \n",
    "if resposta4 == 'Sim' or resposta4=='sim':\n",
    "    contaResp +=1 \n",
    "if resposta5 == 'Sim' or resposta5=='sim':\n",
    "    contaResp +=1\n",
    "\n",
    "if contaResp>4:\n",
    "    print('Assassino')\n",
    "elif contaResp >2 :\n",
    "    print('Cúmplice')\n",
    "elif contaResp >1 :\n",
    "    print('Suspeito')\n",
    "else:\n",
    "    print('Inocente')"
   ]
  },
  {
   "cell_type": "markdown",
   "metadata": {},
   "source": [
    "#### 12. Uma fruteira está vendendo frutas com a seguinte tabela de preços:\n",
    " Até 5 Kg Acima de 5 Kg\n",
    "Morango R$ 2,50 por Kg R$ 2,20 por Kg\n",
    "Maçã R$ 1,80 por Kg R$ 1,50 por Kg\n",
    "Se o cliente comprar mais de 8 Kg em frutas ou o valor total da compra ultrapassar\n",
    "R$ 25,00, receberá ainda um desconto de 10% sobre este total. Escreva um\n",
    "algoritmo para ler a quantidade (em Kg) de morangos e a quantidade (em Kg) de\n",
    "maças adquiridas e escreva o valor a ser pago pelo cliente."
   ]
  },
  {
   "cell_type": "code",
   "execution_count": null,
   "metadata": {},
   "outputs": [],
   "source": [
    "kgMacas = float(input ('Digite a quantidade em KG de maças desejado'))\n",
    "kgMorango = float(input ('Digite a quantidade em KG de morangos desejado'))\n",
    "\n",
    "if (kgMacas>5):\n",
    "    valorMacas = kgMacas*1.5\n",
    "else:\n",
    "    valorMacas = kgMacas*1.8\n",
    "\n",
    "if (kgMorango>5):\n",
    "    valorMorango = kgMorango*2.2\n",
    "else:\n",
    "    valorMorango = kgMorango*2.5\n",
    "\n",
    "kgTotal = kgMacas+kgMorango\n",
    "valorTotal = valorMacas+valorMorango\n",
    "if kgTotal>8 or valorTotal>25:\n",
    "    valorTotal = valorTotal*0.90\n",
    "\n",
    "print(f'Valor total a pagar: {valorTotal} R$')"
   ]
  },
  {
   "cell_type": "markdown",
   "metadata": {},
   "source": [
    "### 13. Faça um programa que peça uma nota, entre zero e dez. Mostre uma mensagem\n",
    "caso o valor seja inválido e continue pedindo até que o usuário informe um valor\n",
    "válido."
   ]
  },
  {
   "cell_type": "code",
   "execution_count": null,
   "metadata": {},
   "outputs": [],
   "source": [
    "notaDig = -1\n",
    "\n",
    "while notaDig<0 or notaDig>10:\n",
    "    notaDig = int(input('Digite uma nota de 0 a 10: '))"
   ]
  },
  {
   "cell_type": "markdown",
   "metadata": {},
   "source": [
    "### 13. Faça um programa que leia e valide as seguintes informações:\n",
    "Nome: maior que 3 caracteres;\n",
    "Idade: entre 0 e 150;\n",
    "Salário: maior que zero;\n",
    "Sexo: 'f' ou 'm';\n",
    "Estado Civil: 's', 'c', 'v', 'd';"
   ]
  },
  {
   "cell_type": "code",
   "execution_count": null,
   "metadata": {},
   "outputs": [],
   "source": [
    "Nome = '--'\n",
    "Idade = -1\n",
    "Salario = 0\n",
    "Sexo = 'N'\n",
    "EstadoCivil = 'N'\n",
    "\n",
    "while len(Nome)<3 or Idade<0 or Idade>150 or Salario<1 or Sexo !='f' and Sexo != 'm' or EstadoCivil !='s' and EstadoCivil !='c' and EstadoCivil !='v' and EstadoCivil !='d':\n",
    "    if len(Nome)<3:\n",
    "        Nome = input('Digite um nome válido: ')\n",
    "    if Idade<0 or Idade>150:\n",
    "        Idade = int(input('Digite uma idade válida: '))\n",
    "    if Salario<1:\n",
    "        Salario = float(input('Digite um salario válido: '))\n",
    "    if Sexo.lower() != 'f' and Sexo.lower() != 'm':\n",
    "        Sexo = input ('Digite um sexo válido: ')\n",
    "    if EstadoCivil.lower() !='s' and EstadoCivil.lower() !='c' and EstadoCivil.lower() !='v'and EstadoCivil.lower() !='d':\n",
    "        EstadoCivil = input('Digite um estado civil válido: ')\n",
    "print(f'Dados informados: Nome: {Nome}, Idade: {Idade}, Salario: {Salario}, Sexo: {Sexo}, Estado Civil: {EstadoCivil}')"
   ]
  },
  {
   "cell_type": "markdown",
   "metadata": {},
   "source": [
    "### 14. Faça um programa que leia 5 números e informe o maior número.\n"
   ]
  },
  {
   "cell_type": "code",
   "execution_count": 9,
   "metadata": {},
   "outputs": [
    {
     "name": "stdout",
     "output_type": "stream",
     "text": [
      "Digite o 1 número: 10\n",
      "Digite o 2 número: 50\n",
      "Digite o 3 número: 50\n",
      "Digite o 4 número: 50\n",
      "Digite o 5 número: 10\n",
      "O maior número é:  50\n"
     ]
    }
   ],
   "source": [
    "list = [0,0,0,0,0]\n",
    "x=0\n",
    "while x<5:\n",
    "    list[x] = int(input(f'Digite o {x+1} número: '))\n",
    "    x = x+1\n",
    "print('O maior número é: ',max(list))\n"
   ]
  },
  {
   "cell_type": "markdown",
   "metadata": {},
   "source": [
    "### 15. Faça um programa que leia 5 números e informe a soma e a média dos números."
   ]
  },
  {
   "cell_type": "code",
   "execution_count": 12,
   "metadata": {},
   "outputs": [
    {
     "name": "stdout",
     "output_type": "stream",
     "text": [
      "Digite o 1 número: 10\n",
      "Digite o 2 número: 10\n",
      "Digite o 3 número: 10\n",
      "Digite o 4 número: 10\n",
      "Digite o 5 número: 10\n",
      "A soma dos números é: 50 a média é: 10.0\n"
     ]
    }
   ],
   "source": [
    "list = [0,0,0,0,0]\n",
    "x=0\n",
    "while x<5:\n",
    "    list[x] = int(input(f'Digite o {x+1} número: '))\n",
    "    x = x+1\n",
    "print(f'A soma dos números é: {sum(list)} a média é: {sum(list)/len(list)}')"
   ]
  },
  {
   "cell_type": "markdown",
   "metadata": {},
   "source": [
    "### 16. Faça um programa que imprima na tela apenas os números ímpares entre 1 e 50.\n"
   ]
  },
  {
   "cell_type": "code",
   "execution_count": 17,
   "metadata": {},
   "outputs": [
    {
     "name": "stdout",
     "output_type": "stream",
     "text": [
      "1\n",
      "3\n",
      "5\n",
      "7\n",
      "9\n",
      "11\n",
      "13\n",
      "15\n",
      "17\n",
      "19\n",
      "21\n",
      "23\n",
      "25\n",
      "27\n",
      "29\n",
      "31\n",
      "33\n",
      "35\n",
      "37\n",
      "39\n",
      "41\n",
      "43\n",
      "45\n",
      "47\n",
      "49\n"
     ]
    }
   ],
   "source": [
    "x=1\n",
    "while x<=50:\n",
    "    if x%2 ==1:\n",
    "        print(x)\n",
    "    x = x+1\n"
   ]
  },
  {
   "cell_type": "markdown",
   "metadata": {},
   "source": [
    "### 17. Desenvolva um gerador de tabuada, capaz de gerar a tabuada de qualquer\n",
    "número inteiro entre 1 a 10. O usuário deve informar de qual numero ele deseja ver\n",
    "a tabuada."
   ]
  },
  {
   "cell_type": "code",
   "execution_count": 22,
   "metadata": {},
   "outputs": [
    {
     "name": "stdout",
     "output_type": "stream",
     "text": [
      "Qual número deseja calcular a tabuada?: 5\n",
      "5 X 1 = 5\n",
      "5 X 2 = 10\n",
      "5 X 3 = 15\n",
      "5 X 4 = 20\n",
      "5 X 5 = 25\n",
      "5 X 6 = 30\n",
      "5 X 7 = 35\n",
      "5 X 8 = 40\n",
      "5 X 9 = 45\n",
      "5 X 10 = 50\n"
     ]
    }
   ],
   "source": [
    "mult = 1\n",
    "num = int(input('Qual número deseja calcular a tabuada?: '))\n",
    "while mult<11:\n",
    "    print(f'{num} X {mult} = {num*mult}')\n",
    "    mult = mult+1"
   ]
  },
  {
   "cell_type": "markdown",
   "metadata": {},
   "source": [
    "### 18. A série de Fibonacci é formada pela seqüência 1,1,2,3,5,8,13,21,34,55,... Faça um\n",
    "programa capaz de gerar a série até o n−ésimo termo. "
   ]
  },
  {
   "cell_type": "code",
   "execution_count": 3,
   "metadata": {},
   "outputs": [
    {
     "name": "stdout",
     "output_type": "stream",
     "text": [
      "Digite o valor limite para o calculo: 100\n",
      "1\n",
      "2\n",
      "3\n",
      "5\n",
      "8\n",
      "13\n",
      "21\n",
      "34\n",
      "55\n",
      "89\n",
      "144\n"
     ]
    }
   ],
   "source": [
    "n = int(input('Digite o valor limite para o calculo: '))\n",
    "i = 1\n",
    "ant = 0\n",
    "F = 1;\n",
    "while F<n:\n",
    "    F = F + ant\n",
    "    ant = F - ant;\n",
    "    print(F)\n",
    "    i = i+1"
   ]
  },
  {
   "cell_type": "markdown",
   "metadata": {},
   "source": [
    "### 19. Faça um programa que calcule o fatorial de um número inteiro fornecido pelo\n",
    "usuário. Ex.: 5!=5.4.3.2.1=120"
   ]
  },
  {
   "cell_type": "code",
   "execution_count": 13,
   "metadata": {},
   "outputs": [
    {
     "name": "stdout",
     "output_type": "stream",
     "text": [
      "Digite um número para calcular o fatorial: 5\n",
      "Resultado: 120\n"
     ]
    }
   ],
   "source": [
    "n = int(input('Digite um número para calcular o fatorial: '))\n",
    "i = n-1\n",
    "res = 0\n",
    "while i>0:\n",
    "    n = n*i\n",
    "    i = i-1\n",
    "print(f'Resultado: {n}')"
   ]
  },
  {
   "cell_type": "markdown",
   "metadata": {},
   "source": [
    "### 20. O Sr. Manoel Joaquim possui uma grande loja de artigos de R$ 1,99, com cerca\n",
    "de 10 caixas. Para agilizar o cálculo de quanto cada cliente deve pagar ele\n",
    "desenvolveu um tabela que contém o número de itens que o cliente comprou e ao\n",
    "lado o valor da conta. Desta forma a atendente do caixa precisa apenas contar\n",
    "quantos itens o cliente está levando e olhar na tabela de preços. Você foi contratado\n",
    "para desenvolver o programa que monta esta tabela de preços, que conterá os\n",
    "preços de 1 até 50 produtos, conforme o exemplo abaixo:\n",
    "Lojas Quase Dois - Tabela de preços\n",
    "1 - R$ 1.99\n",
    "2 - R$ 3.98\n",
    "...\n",
    "50 - R$ 99.50"
   ]
  },
  {
   "cell_type": "code",
   "execution_count": 16,
   "metadata": {},
   "outputs": [
    {
     "name": "stdout",
     "output_type": "stream",
     "text": [
      "Lojas Quase Dois - Tabela de preços\n",
      "1 - R$ 1.99\n",
      "2 - R$ 3.98\n",
      "3 - R$ 5.97\n",
      "4 - R$ 7.96\n",
      "5 - R$ 9.95\n",
      "6 - R$ 11.94\n",
      "7 - R$ 13.93\n",
      "8 - R$ 15.92\n",
      "9 - R$ 17.91\n",
      "10 - R$ 19.9\n",
      "11 - R$ 21.89\n",
      "12 - R$ 23.88\n",
      "13 - R$ 25.87\n",
      "14 - R$ 27.86\n",
      "15 - R$ 29.85\n",
      "16 - R$ 31.84\n",
      "17 - R$ 33.83\n",
      "18 - R$ 35.82\n",
      "19 - R$ 37.81\n",
      "20 - R$ 39.8\n",
      "21 - R$ 41.79\n",
      "22 - R$ 43.78\n",
      "23 - R$ 45.77\n",
      "24 - R$ 47.76\n",
      "25 - R$ 49.75\n",
      "26 - R$ 51.74\n",
      "27 - R$ 53.73\n",
      "28 - R$ 55.72\n",
      "29 - R$ 57.71\n",
      "30 - R$ 59.7\n",
      "31 - R$ 61.69\n",
      "32 - R$ 63.68\n",
      "33 - R$ 65.67\n",
      "34 - R$ 67.66\n",
      "35 - R$ 69.65\n",
      "36 - R$ 71.64\n",
      "37 - R$ 73.63\n",
      "38 - R$ 75.62\n",
      "39 - R$ 77.61\n",
      "40 - R$ 79.6\n",
      "41 - R$ 81.59\n",
      "42 - R$ 83.58\n",
      "43 - R$ 85.57\n",
      "44 - R$ 87.56\n",
      "45 - R$ 89.55\n",
      "46 - R$ 91.54\n",
      "47 - R$ 93.53\n",
      "48 - R$ 95.52\n",
      "49 - R$ 97.51\n",
      "50 - R$ 99.5\n"
     ]
    }
   ],
   "source": [
    "valor = 1.99\n",
    "i =1\n",
    "print('Lojas Quase Dois - Tabela de preços')\n",
    "while i<51:\n",
    "        print(f'{i} - R$ {valor*(i)}')\n",
    "        i = i+1"
   ]
  },
  {
   "cell_type": "markdown",
   "metadata": {},
   "source": [
    "### 21. O Sr. Manoel Joaquim acaba de adquirir uma panificadora e pretende implantar\n",
    "a metodologia da tabelinha, que já é um sucesso na sua loja de 1,99. Você foi\n",
    "contratado para desenvolver o programa que monta a tabela de preços de pães, de\n",
    "1 até 50 pães, a partir do preço do pão informado pelo usuário, conforme o exemplo\n",
    "abaixo:\n",
    "Preço do pão: R$ 0.18\n",
    "Panificadora Pão de Ontem - Tabela de preços\n",
    "1 - R$ 0.18\n",
    "2 - R$ 0.36\n",
    "...\n",
    "50 - R$ 9.00"
   ]
  },
  {
   "cell_type": "code",
   "execution_count": 17,
   "metadata": {},
   "outputs": [
    {
     "name": "stdout",
     "output_type": "stream",
     "text": [
      "Qual o valor do pão?0.18\n",
      "Panificadora Pão de Ontem - Tabela de preços\n",
      "1 - R$ 0.18\n",
      "2 - R$ 0.36\n",
      "3 - R$ 0.54\n",
      "4 - R$ 0.72\n",
      "5 - R$ 0.8999999999999999\n",
      "6 - R$ 1.08\n",
      "7 - R$ 1.26\n",
      "8 - R$ 1.44\n",
      "9 - R$ 1.6199999999999999\n",
      "10 - R$ 1.7999999999999998\n",
      "11 - R$ 1.98\n",
      "12 - R$ 2.16\n",
      "13 - R$ 2.34\n",
      "14 - R$ 2.52\n",
      "15 - R$ 2.6999999999999997\n",
      "16 - R$ 2.88\n",
      "17 - R$ 3.06\n",
      "18 - R$ 3.2399999999999998\n",
      "19 - R$ 3.42\n",
      "20 - R$ 3.5999999999999996\n",
      "21 - R$ 3.78\n",
      "22 - R$ 3.96\n",
      "23 - R$ 4.14\n",
      "24 - R$ 4.32\n",
      "25 - R$ 4.5\n",
      "26 - R$ 4.68\n",
      "27 - R$ 4.859999999999999\n",
      "28 - R$ 5.04\n",
      "29 - R$ 5.22\n",
      "30 - R$ 5.3999999999999995\n",
      "31 - R$ 5.58\n",
      "32 - R$ 5.76\n",
      "33 - R$ 5.9399999999999995\n",
      "34 - R$ 6.12\n",
      "35 - R$ 6.3\n",
      "36 - R$ 6.4799999999999995\n",
      "37 - R$ 6.66\n",
      "38 - R$ 6.84\n",
      "39 - R$ 7.02\n",
      "40 - R$ 7.199999999999999\n",
      "41 - R$ 7.38\n",
      "42 - R$ 7.56\n",
      "43 - R$ 7.739999999999999\n",
      "44 - R$ 7.92\n",
      "45 - R$ 8.1\n",
      "46 - R$ 8.28\n",
      "47 - R$ 8.459999999999999\n",
      "48 - R$ 8.64\n",
      "49 - R$ 8.82\n",
      "50 - R$ 9.0\n"
     ]
    }
   ],
   "source": [
    "valor = float(input('Qual o valor do pão?'))\n",
    "i =1\n",
    "print('Panificadora Pão de Ontem - Tabela de preços')\n",
    "while i<51:\n",
    "        print(f'{i} - R$ {valor*(i)}')\n",
    "        i = i+1"
   ]
  },
  {
   "cell_type": "markdown",
   "metadata": {},
   "source": [
    "### 22. O Sr. Manoel Joaquim expandiu seus negócios para além dos negócios de 1,99 e\n",
    "agora possui uma loja de conveniências. Faça um programa que implemente uma\n",
    "caixa registradora rudimentar. O programa deverá receber um número\n",
    "desconhecido de valores referentes aos preços das mercadorias. Um valor zero deve\n",
    "ser informado pelo operador para indicar o final da compra. O programa deve então\n",
    "mostrar o total da compra e perguntar o valor em dinheiro que o cliente forneceu,\n",
    "para então calcular e mostrar o valor do troco. Após esta operação, o programa\n",
    "deverá voltar ao ponto inicial, para registrar a próxima compra. A saída deve ser\n",
    "conforme o exemplo abaixo:\n",
    "Lojas Tabajara\n",
    "Produto 1: R$ 2.20\n",
    "Produto 2: R$ 5.80\n",
    "Produto 3: R$ 0\n",
    "Total: R$ 9.00\n",
    "Dinheiro: R$ 20.00\n",
    "Troco: R$ 11.00"
   ]
  },
  {
   "cell_type": "code",
   "execution_count": 21,
   "metadata": {},
   "outputs": [
    {
     "name": "stdout",
     "output_type": "stream",
     "text": [
      "Digite o valor do produto: 10\n",
      "Produto 1: R$ 10.0\n",
      "Digite o valor do produto: 20\n",
      "Produto 2: R$ 20.0\n",
      "Digite o valor do produto: 30\n",
      "Produto 3: R$ 30.0\n",
      "Digite o valor do produto: 30\n",
      "Produto 4: R$ 30.0\n",
      "Digite o valor do produto: 20\n",
      "Produto 5: R$ 20.0\n",
      "Digite o valor do produto: 0\n",
      "Produto 6: R$ 0.0\n",
      "Total da compra: R$: 110.0\n",
      "Dinheiro: R$ 120\n",
      "Troco: R$ 10.0\n"
     ]
    }
   ],
   "source": [
    "precoProd = 1\n",
    "i = 1\n",
    "totalCompra = 0\n",
    "while precoProd!=0:\n",
    "    precoProd = float(input('Digite o valor do produto: '))\n",
    "    totalCompra = totalCompra+precoProd\n",
    "    print(f'Produto {i}: R$ {precoProd}')\n",
    "    i = i+1\n",
    "print(f'Total da compra: R$: {totalCompra}')\n",
    "Dinheiro = float(input('Dinheiro: R$ '))\n",
    "print(f'Troco: R$ {Dinheiro-totalCompra}')"
   ]
  },
  {
   "cell_type": "code",
   "execution_count": null,
   "metadata": {},
   "outputs": [],
   "source": []
  }
 ],
 "metadata": {
  "kernelspec": {
   "display_name": "Python 3",
   "language": "python",
   "name": "python3"
  },
  "language_info": {
   "codemirror_mode": {
    "name": "ipython",
    "version": 3
   },
   "file_extension": ".py",
   "mimetype": "text/x-python",
   "name": "python",
   "nbconvert_exporter": "python",
   "pygments_lexer": "ipython3",
   "version": "3.6.4"
  }
 },
 "nbformat": 4,
 "nbformat_minor": 2
}
