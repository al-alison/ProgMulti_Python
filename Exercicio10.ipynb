{
 "cells": [
  {
   "cell_type": "markdown",
   "metadata": {},
   "source": [
    "#### 1 Menor de dois pares: Escreva uma função que retorne o menor de dois números\n",
    "dados se ambos os números forem pares, mas retorna o maior se um dos dois for\n",
    "ímpar. Exemplo:\n",
    "menor_de_dois_pares(2,4) --> 2\n",
    "menor_de_dois_pares (2,5) --> 5"
   ]
  },
  {
   "cell_type": "code",
   "execution_count": 1,
   "metadata": {},
   "outputs": [],
   "source": [
    "def menor_de_dois_pares(n1,n2):\n",
    "    if n1 % 2 == 0 and n2 % 2 == 0:\n",
    "        if n1<n2:\n",
    "            return n1\n",
    "        else:\n",
    "            return n2\n",
    "    else:\n",
    "        if n1<n2:\n",
    "            return n2\n",
    "        else:\n",
    "            return n1"
   ]
  },
  {
   "cell_type": "code",
   "execution_count": 5,
   "metadata": {},
   "outputs": [
    {
     "name": "stdout",
     "output_type": "stream",
     "text": [
      "5\n"
     ]
    }
   ],
   "source": [
    "print(menor_de_dois_pares(2,5))"
   ]
  },
  {
   "cell_type": "markdown",
   "metadata": {},
   "source": [
    "#### 2 Mesma letra: Escreva uma função que receba uma string com duas palavras e\n",
    "retorne True se ambas palavras começarem com a mesma letra. Exemplo:\n",
    "mesma_letra('Cão covarde') -> True\n",
    "mesma_letra('Vira Lata') -> False"
   ]
  },
  {
   "cell_type": "code",
   "execution_count": 16,
   "metadata": {},
   "outputs": [],
   "source": [
    "def mesma_letra(s):\n",
    "    lista = s.split()\n",
    "    if lista[0][0].lower() == lista[1][0].lower():\n",
    "        return True\n",
    "    else:\n",
    "        return False"
   ]
  },
  {
   "cell_type": "code",
   "execution_count": 17,
   "metadata": {},
   "outputs": [
    {
     "name": "stdout",
     "output_type": "stream",
     "text": [
      "True\n"
     ]
    }
   ],
   "source": [
    "print(mesma_letra('Cachoeeo cachorro'))"
   ]
  },
  {
   "cell_type": "markdown",
   "metadata": {},
   "source": [
    "#### 3 Mestre Yoda: Dada uma sentença, a função deve retornar a sentença com as palavras na ordem reversa. Exemplo:"
   ]
  },
  {
   "cell_type": "code",
   "execution_count": 62,
   "metadata": {},
   "outputs": [],
   "source": [
    "def mestre_yoda(s):\n",
    "    lista = s.split()\n",
    "    str = ' '.join(lista[::-1])\n",
    "    return str"
   ]
  },
  {
   "cell_type": "code",
   "execution_count": 63,
   "metadata": {},
   "outputs": [
    {
     "name": "stdout",
     "output_type": "stream",
     "text": [
      "casa em estou Eu\n"
     ]
    }
   ],
   "source": [
    "s = 'Eu estou em casa'\n",
    "print(mestre_yoda(s))"
   ]
  },
  {
   "cell_type": "markdown",
   "metadata": {},
   "source": [
    "#### 4 Tem 33: Faça uma função que retorne True se, dada uma lista de inteiros, houver\n",
    "em alguma posição da lista um 3 do lado de outro 3. Exemplo:\n",
    "tem_33([1,3,3]) --> True\n",
    "tem_33([1,3,1,3]) --> False\n",
    "tem_33([3,1,3]) --> False"
   ]
  },
  {
   "cell_type": "markdown",
   "metadata": {},
   "source": [
    "#### 5 Blackjack: Faça uma função que receba 3 inteiros entre 1 e 11. Se a soma deles for\n",
    "menor que 21, retorne o valor da soma. Se for mair do que 21 e houver um 11,\n",
    "subtraia 10 da soma antes de apresentar o resultado. Se o valor da soma passar de\n",
    "21, retorne ‘ESTOUROU’. Exemplo:\n",
    "blackjack(5,6,7) --> 18\n",
    "blackjack(9,9,9) --> 'ESTOUROU'\n",
    "blackjack(9,9,11) --> 19"
   ]
  },
  {
   "cell_type": "code",
   "execution_count": 19,
   "metadata": {},
   "outputs": [],
   "source": [
    "def blackjack(c1,c2,c3):\n",
    "    total = c1+c2+c3\n",
    "    if c1 == 11 or c2 == 11 or c3 == 11:\n",
    "        return total-10\n",
    "    else:\n",
    "        if total>21:\n",
    "            return 'ESTOUROU'\n",
    "        else:\n",
    "            return total\n"
   ]
  },
  {
   "cell_type": "code",
   "execution_count": 23,
   "metadata": {},
   "outputs": [
    {
     "data": {
      "text/plain": [
       "19"
      ]
     },
     "execution_count": 23,
     "metadata": {},
     "output_type": "execute_result"
    }
   ],
   "source": [
    "blackjack(9,9,1)"
   ]
  },
  {
   "cell_type": "markdown",
   "metadata": {},
   "source": [
    "#### 6 Espião: Escreva uma função que receba uma lista de\n",
    "inteiros e retorne True se contém um 007 em ordem, mesmo\n",
    "que não contínuo. Exemplo:\n",
    "espiao([1,2,4,0,0,7,5]) --> True\n",
    "espiao([1,0,2,4,0,5,7]) --> True\n",
    "espiao([1,7,2,4,0,5,0]) --> False"
   ]
  },
  {
   "cell_type": "code",
   "execution_count": null,
   "metadata": {},
   "outputs": [],
   "source": [
    "def espiao(list[])\n",
    "    if "
   ]
  },
  {
   "cell_type": "markdown",
   "metadata": {},
   "source": [
    "#### 7 Linha: Crie a classe Linha que tem dois atributos, coordenada1 e coordenada2.\n",
    "Cada coordenada é uma tupla que carrega duas coordenadas cartesianas (x,y) que denotam pontos do segmento de reta. Faça métodos que calculem o comprimento do segmento de reta e sua inclinação."
   ]
  },
  {
   "cell_type": "code",
   "execution_count": 83,
   "metadata": {},
   "outputs": [],
   "source": [
    "class Linha:\n",
    "    def __init__(self, coordenada1, coordenada2):\n",
    "        self._coordenada1 = coordenada2\n",
    "        self.coordenada2 = coordenada2\n",
    "        \n",
    "    def comprimento_reta(self):\n",
    "        x = coordenada2[0]-coordenada1[0]\n",
    "        y = coordenada2[1]-coordenada1[1]\n",
    "        h = (x**2 + y**2)**(0.5)\n",
    "        return h\n",
    "    def inclinacao_reta(self):\n",
    "        x = abs(coordenada2[0]-coordenada1[0])\n",
    "        y = abs(coordenada2[1]-coordenada1[1])\n",
    "        h = (x**2 + y**2)**(0.5)\n",
    "        return y/h; \n",
    "    def set_coordenada1(self, coordenada1):\n",
    "        self._coordenada1 = coordenada1\n",
    "    \n",
    "    def set_coordenada2(self, coordenada2):\n",
    "        self._coordenada2 = coordenada2\n",
    "    "
   ]
  },
  {
   "cell_type": "code",
   "execution_count": 84,
   "metadata": {
    "scrolled": true
   },
   "outputs": [
    {
     "name": "stdout",
     "output_type": "stream",
     "text": [
      "Comprimento da reta:  5.385164807134504\n",
      "Inclinação da reta:  0.3713906763541037\n",
      "Comprimento da reta:  17.0\n",
      "Inclinação da reta:  0.47058823529411764\n"
     ]
    }
   ],
   "source": [
    "coordenada1 = (5,3)\n",
    "coordenada2  = (10,5)\n",
    "\n",
    "linha = Linha(coordenada1, coordenada2)\n",
    "print('Comprimento da reta: ',linha.comprimento_reta())\n",
    "print ('Inclinação da reta: ',linha.inclinacao_reta())\n",
    "coordenada1 = (10,-5)\n",
    "coordenada2 = (-5,3)\n",
    "linha.set_coordenada1(coordenada1)\n",
    "linha.set_coordenada2(coordenada2)\n",
    "print ('Comprimento da reta: ',linha.comprimento_reta())\n",
    "print ('Inclinação da reta: ',linha.inclinacao_reta())\n"
   ]
  },
  {
   "cell_type": "markdown",
   "metadata": {},
   "source": [
    "#### 8 Figuras: Crie a seguinte hierarquia de classes de figuras geométricas. Veja na figura\n",
    "as fórmulas:\n",
    "a. A classe abstrata Figura deve ter o método abstrato area.\n",
    "b. A classe concreta Circulo é subclasse de Figura.\n",
    "c. A classe abstrata Poligono é subclasse de Figura e deve ter os atributos base e\n",
    "altura .\n",
    "d. As classes concretas Triangulo, Losango, Retangulo e Quadrado são subclasses\n",
    "de Poligono. Tente criar mais uma generalização aqui olhando as fórmulas da área.\n",
    "e. Os polígonos Retangulo e Quadrado devem implementar a interface Diagonal,\n",
    "que deve ter um método que calcula a diagonal.\n",
    "f. Crie uma classe Geometria com uma lista de Figuras com pelo menos uma\n",
    "figura de cada e imprima suas áreas, perímetros e diagonais."
   ]
  },
  {
   "cell_type": "code",
   "execution_count": 25,
   "metadata": {},
   "outputs": [],
   "source": [
    "class Figura:\n",
    "    def area(self):\n",
    "        raise NotImplementedError(\"A subclasse deve implementar o método abstrado\")\n",
    "class Circulo(Figura):\n",
    "    pass\n",
    "class Poligono(Figura):\n",
    "    def __init__(self, base, altura):\n",
    "        raise NotImplementedError(\"A subclasse deve implementar o método abstrado\")\n",
    "class Triangulo(Poligono):\n",
    "    pass\n",
    "class Losango(Poligono):\n",
    "    pass\n",
    "class Retangulo(Poligono):\n",
    "    pass\n",
    "class Quadrado(Poligono):\n",
    "    pass\n",
    "    \n",
    "        "
   ]
  },
  {
   "cell_type": "markdown",
   "metadata": {},
   "source": [
    "#### 9 Jogo de Blacjack: Faça um joguinho simples em Python.\n",
    "Aqui estão os requisitos:\n",
    "- Você precisa criar um jogo de BlackJack (21) baseado em texto simples\n",
    "- O jogo precisa ter um jogador contra um croupier automatizado.\n",
    "- O jogador pode desistir ou bater.\n",
    "- O jogador deve ser capaz de escolher o seu valor de aposta.\n",
    "- Você precisa acompanhar o dinheiro total do jogador.\n",
    "- Você precisa alertar o jogador de vitórias, derrotas ou estouros, etc ..."
   ]
  },
  {
   "cell_type": "code",
   "execution_count": null,
   "metadata": {},
   "outputs": [],
   "source": []
  }
 ],
 "metadata": {
  "kernelspec": {
   "display_name": "Python 3",
   "language": "python",
   "name": "python3"
  },
  "language_info": {
   "codemirror_mode": {
    "name": "ipython",
    "version": 3
   },
   "file_extension": ".py",
   "mimetype": "text/x-python",
   "name": "python",
   "nbconvert_exporter": "python",
   "pygments_lexer": "ipython3",
   "version": "3.6.4"
  }
 },
 "nbformat": 4,
 "nbformat_minor": 2
}
