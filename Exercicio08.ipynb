{
 "cells": [
  {
   "cell_type": "markdown",
   "metadata": {},
   "source": [
    "### Lista de exercicios 8"
   ]
  },
  {
   "cell_type": "markdown",
   "metadata": {},
   "source": [
    "#### 1.Faça um Programa que peça o raio de um círculo, calcule e mostre sua área. "
   ]
  },
  {
   "cell_type": "code",
   "execution_count": 15,
   "metadata": {},
   "outputs": [
    {
     "name": "stdout",
     "output_type": "stream",
     "text": [
      "Digite o raio do círculo: 5\n",
      "A area do circulo é: 31.42\n"
     ]
    }
   ],
   "source": [
    "import math\n",
    "raio = float(input('Digite o raio do círculo: '));\n",
    "\n",
    "area = math.pi * (raio*2)\n",
    "print('A area do circulo é: {0:.2f}' .format(area));"
   ]
  },
  {
   "cell_type": "markdown",
   "metadata": {},
   "source": [
    "#### 2.Faça um Programa que calcule a área de um quadrado, em seguida mostre o dobro desta área para o usuário. "
   ]
  },
  {
   "cell_type": "code",
   "execution_count": 2,
   "metadata": {},
   "outputs": [
    {
     "name": "stdout",
     "output_type": "stream",
     "text": [
      "Digite o lado do quadrado: 5\n",
      "A area do quadrado é: 25.00\n"
     ]
    }
   ],
   "source": [
    "lado = float (input('Digite o lado do quadrado: '));\n",
    "\n",
    "area = lado*lado;\n",
    "print('A area do quadrado é: {0:.2f}' .format(area));"
   ]
  },
  {
   "cell_type": "markdown",
   "metadata": {},
   "source": [
    "####  3.Faça um Programa que pergunte quanto você ganha por hora e o número de horas trabalhadas no mês. Calcule e mostre o total do seu salário no referido mês. "
   ]
  },
  {
   "cell_type": "code",
   "execution_count": 3,
   "metadata": {},
   "outputs": [
    {
     "name": "stdout",
     "output_type": "stream",
     "text": [
      "Quanto você ganha por hora? 5\n",
      "Quantidade de horas trabalhadas no mês? 5\n",
      "A salario mensal é: 25.0\n"
     ]
    }
   ],
   "source": [
    "valorhora = float (input('Quanto você ganha por hora? '))\n",
    "horasmes = float (input('Quantidade de horas trabalhadas no mês? '))\n",
    "valorSalario = valorhora*horasmes;\n",
    "print('A salario mensal é: {0}' .format(valorSalario))"
   ]
  },
  {
   "cell_type": "markdown",
   "metadata": {},
   "source": [
    "#### 4.Faça um Programa que peça a temperatura em graus Farenheit, transforme e mostre a temperatura em graus Celsius. C = (5 * (F-32) / 9)."
   ]
  },
  {
   "cell_type": "code",
   "execution_count": 20,
   "metadata": {},
   "outputs": [
    {
     "name": "stdout",
     "output_type": "stream",
     "text": [
      "Graus em Farenheit: 32\n",
      "Os graus em Farenheit são: 0.0\n"
     ]
    }
   ],
   "source": [
    "grausFa = float(input('Graus em Farenheit: '))\n",
    "grausCelsius = (5 * (grausFa-32) / 9)\n",
    "\n",
    "print('Os graus em Celsius são: {0}' .format(grausCelsius))"
   ]
  },
  {
   "cell_type": "markdown",
   "metadata": {},
   "source": [
    "#### 5.Faça um Programa que peça a temperatura em graus Celsius, transforme e mostre em graus Farenheit.\n"
   ]
  },
  {
   "cell_type": "code",
   "execution_count": 2,
   "metadata": {},
   "outputs": [
    {
     "name": "stdout",
     "output_type": "stream",
     "text": [
      "Graus em Celsius: 30\n",
      "Os graus em Farenheit são: 86.0\n"
     ]
    }
   ],
   "source": [
    "grausCe = float(input('Graus em Celsius: '))\n",
    "grausFa = (grausCe * 1.8 + 32)\n",
    "\n",
    "print('Os graus em Farenheit são: {0}' .format(grausFa))"
   ]
  },
  {
   "cell_type": "markdown",
   "metadata": {},
   "source": [
    "#### 6 Faça um Programa que peça 2 números inteiros e um número real. Calcule e mostre:"
   ]
  },
  {
   "cell_type": "code",
   "execution_count": 12,
   "metadata": {},
   "outputs": [
    {
     "name": "stdout",
     "output_type": "stream",
     "text": [
      "Primeiro número inteiro: 2\n",
      "Segundo número inteiro: 2\n",
      "Número real: 2\n",
      "Produto: 4.0\n",
      "Soma do triplo..: 8.0\n",
      "Número 3 elevado ao cubo: 8.0\n"
     ]
    }
   ],
   "source": [
    "int1 = int(input('Primeiro número inteiro: '))\n",
    "int2 = int(input('Segundo número inteiro: '))\n",
    "real1 = float(input('Número real: '))\n",
    "\n",
    "print('Produto: {0}'.format((int1*2)*(int1/2)))\n",
    "print('Soma do triplo..: {0}'.format((int1*3)+real1))\n",
    "print('Número 3 elevado ao cubo: {0}'.format(real1**3))"
   ]
  },
  {
   "cell_type": "markdown",
   "metadata": {},
   "source": [
    "#### 7 João Papo-de-Pescador, homem de bem, comprou um microcomputador para controlar o rendimento diário de seu trabalho. Toda vez que ele traz um peso de peixes maior que o estabelecido pelo regulamento de pesca do estado de São Paulo (50 quilos) deve pagar uma multa de RS 4,00 por quilo excedente. João precisa que você faça um programa que leia a variável peso (peso de peixes) e verifique se há excesso. Se houver, gravar na variável excesso e na variável multa o valor da multa que João deverá pagar. Caso contrário mostrar tais variáveis com o conteúdo ZERO."
   ]
  },
  {
   "cell_type": "code",
   "execution_count": 27,
   "metadata": {},
   "outputs": [
    {
     "name": "stdout",
     "output_type": "stream",
     "text": [
      "Peso dos peixes: 51\n",
      "Peso excedente: 1.0, Valor da multa: 4.0\n"
     ]
    }
   ],
   "source": [
    "PesoPeixe = float(input('Peso dos peixes: '))\n",
    "\n",
    "pesoExcedente = PesoPeixe - 50;\n",
    "\n",
    "if PesoPeixe>50:\n",
    "    valorAPagar = pesoExcedente*4\n",
    "else:\n",
    "    pesoExcedente = 0\n",
    "    valorAPagar = 0\n",
    "\n",
    "print('Peso excedente: {0}, Valor da multa: {1}'.format(pesoExcedente, valorAPagar))"
   ]
  },
  {
   "cell_type": "markdown",
   "metadata": {},
   "source": [
    "#### 8 Faça um Programa que pergunte quanto você ganha por hora e o número de horas\n",
    "trabalhadas no mês. Calcule e mostre o total do seu salário no referido mês,\n",
    "sabendo-se que são descontados 11% para o Imposto de Renda, 8% para o INSS e 5%\n",
    "para o sindicato, faça um programa que nos dê:\n",
    "- salário bruto.\n",
    "- quanto pagou ao INSS.\n",
    "- quanto pagou ao sindicato.\n",
    "- o salário líquido.\n",
    "- calcule os descontos e o salário líquido, conforme a tabela abaixo:\n",
    " + Salário Bruto : R$\n",
    " - IR (11%) : R$\n",
    " - INSS (8%) : R$\n",
    " - Sindicato ( 5%) : R$\n",
    " = Salário Liquido : R$\n",
    "Obs.: Salário Bruto - Descontos = Salário Líquido."
   ]
  },
  {
   "cell_type": "code",
   "execution_count": 32,
   "metadata": {},
   "outputs": [
    {
     "name": "stdout",
     "output_type": "stream",
     "text": [
      "Quanto você ganha por hora?: 50\n",
      "Quantas horas você trabalhou no mês?: 50\n",
      "Salário bruto: 2500.0, salário liquido: 1900.0\n",
      "Imposto de renda: 275.0, INSS 200.0, Sindicato 125.0\n"
     ]
    }
   ],
   "source": [
    "valorHora = float(input('Quanto você ganha por hora?: '))\n",
    "qntHora = float(input('Quantas horas você trabalhou no mês?: '))\n",
    "\n",
    "salBruto = valorHora*qntHora\n",
    "ImpostoRenda = salBruto*0.11\n",
    "INSS = salBruto*0.08\n",
    "sindicato = salBruto*0.05\n",
    "Descontos = ImpostoRenda+INSS+sindicato\n",
    "\n",
    "print('Salário bruto: {0}, salário liquido: {1}'.format(salBruto, salBruto-Descontos))\n",
    "print('Imposto de renda: {0}, INSS {1}, Sindicato {2}'.format(ImpostoRenda,INSS,sindicato))"
   ]
  },
  {
   "cell_type": "markdown",
   "metadata": {},
   "source": [
    "#### 9 Faça um programa que leia 2 strings e informe o conteúdo delas seguido do seu comprimento. \n",
    "Informe também se as duas strings possuem o mesmo comprimento e são iguais ou diferentes no conteúdo.\n",
    "Exemplo:\n",
    "String 1: Brasil Hexa 2018\n",
    "String 2: Brasil! Hexa 2018!\n",
    "Tamanho de \"Brasil Hexa 2018\": 16 caracteres\n",
    "Tamanho de \"Brasil! Hexa 2018!\": 18 caracteres\n",
    "As duas strings são de tamanhos diferentes.\n",
    "As duas strings possuem conteúdo diferente."
   ]
  },
  {
   "cell_type": "code",
   "execution_count": 44,
   "metadata": {},
   "outputs": [
    {
     "name": "stdout",
     "output_type": "stream",
     "text": [
      "Digite o primeiro texto: te\n",
      "Digite o segundo texto: erere\n",
      "Tamanho de \"te\": 2\n",
      "Tamanho de \"erere\": 5\n",
      "As duas strings tem tamanhos diferentes\n",
      "As duas strings são diferentes\n"
     ]
    }
   ],
   "source": [
    "string1 = input('Digite o primeiro texto: ')\n",
    "string2 = input('Digite o segundo texto: ')\n",
    "\n",
    "print(f'Tamanho de \"{string1}\": {format(len(string1))}')\n",
    "print(f'Tamanho de \"{string2}\": {format(len(string2))}')\n",
    "\n",
    "if len(string1) != len(string2):\n",
    "    print('As duas strings tem tamanhos diferentes')\n",
    "else:\n",
    "    print('As duas strings tem tamanhos iguais')\n",
    "if string1==string2:\n",
    "    print('As duas strings são iguais')\n",
    "else:\n",
    "    print('As duas strings são diferentes')"
   ]
  },
  {
   "cell_type": "markdown",
   "metadata": {},
   "source": [
    "#### 10. Faça um programa que permita ao usuário digitar o seu nome e em seguida mostre o nome do usuário de trás para frente utilizando somente letras maiúsculas. Dica: lembre−se que ao informar o nome o usuário pode digitar letras maiúsculas ou minúsculas. Observação: não use loops. \n",
    " "
   ]
  },
  {
   "cell_type": "code",
   "execution_count": 4,
   "metadata": {},
   "outputs": [
    {
     "name": "stdout",
     "output_type": "stream",
     "text": [
      "Digite o seu nome: 5\n",
      "5\n"
     ]
    }
   ],
   "source": [
    "nome = input('Digite o seu nome: ');\n",
    "print(nome[:: -1].upper())"
   ]
  },
  {
   "cell_type": "markdown",
   "metadata": {},
   "source": [
    "#### 11 Faça um programa que solicite a data de nascimento (dd/mm/aaaa) do usuário e\n",
    "imprima a data com o nome do mês por extenso.\n",
    "Data de Nascimento: 29/10/1973\n",
    "Você nasceu em 29 de Outubro de 1973.\n",
    "Obs.: Não use desvio condicional nem loops."
   ]
  },
  {
   "cell_type": "code",
   "execution_count": 54,
   "metadata": {},
   "outputs": [
    {
     "name": "stdout",
     "output_type": "stream",
     "text": [
      "Digite sua data de nascimento: 04/03/1997\n",
      "Você nasceu em: 04 de Março de 1997\n"
     ]
    }
   ],
   "source": [
    "meses = {'01':'Janeiro', '02':'Fevereiro', '03':'Março', '04':'Abril', '05':'Maio',  '06':'Junho',  '07':'Julho',  '08':'Agosto',  '09':'Setembro',  '10':'Outubro', '11':'Novembro',  '12':'Dezembro',}\n",
    "dataNasc = input('Digite sua data de nascimento: ')\n",
    "\n",
    "print(f'Você nasceu em: {dataNasc[0:2]} de {meses[dataNasc[3:5]]} de {dataNasc[6:]}')"
   ]
  },
  {
   "cell_type": "markdown",
   "metadata": {},
   "source": [
    "#### 12 Leet é uma forma de se escrever o alfabeto latino usando outros símbolos em\n",
    "lugar das letras, como números por exemplo. A própria palavra leet admite muitas\n",
    "variações, como l33t ou 1337. O uso do leet reflete uma subcultura relacionada ao\n",
    "mundo dos jogos de computador e internet, sendo muito usada para confundir os\n",
    "iniciantes e afirmar-se como parte de um grupo. Pesquise sobre as principais formas\n",
    "de traduzir as letras. Depois, faça um programa que peça uma texto e transforme-o\n",
    "para a grafia leet speak.\n",
    "Desafio: não use loops nem desvios condicionais.\n"
   ]
  },
  {
   "cell_type": "code",
   "execution_count": 65,
   "metadata": {},
   "outputs": [
    {
     "name": "stdout",
     "output_type": "stream",
     "text": [
      "Digite o texto que deseja transformar: wertyuioplkjhgfdsazxcvbnm\n",
      "w3r7yu10plkjhgfd54zxcvbnm\n"
     ]
    }
   ],
   "source": [
    "textoDigitado = input('Digite o texto que deseja transformar: ')\n",
    "\n",
    "textoDigitado = textoDigitado.replace('A', '4')\n",
    "textoDigitado = textoDigitado.replace('E', '3')\n",
    "textoDigitado = textoDigitado.replace('S', '5')\n",
    "textoDigitado = textoDigitado.replace('I', '1')\n",
    "textoDigitado = textoDigitado.replace('T', '7')\n",
    "textoDigitado = textoDigitado.replace('O', '0')\n",
    "textoDigitado = textoDigitado.replace('a', '4')\n",
    "textoDigitado = textoDigitado.replace('e', '3')\n",
    "textoDigitado = textoDigitado.replace('s', '5')\n",
    "textoDigitado = textoDigitado.replace('i', '1')\n",
    "textoDigitado = textoDigitado.replace('t', '7')\n",
    "textoDigitado = textoDigitado.replace('o', '0')\n",
    "print(textoDigitado)\n"
   ]
  },
  {
   "cell_type": "markdown",
   "metadata": {},
   "source": [
    "#### 13 Crie um programa que recebe uma lista de números e \n",
    "retorne o maior elemento\n",
    "retorne a soma dos elementos\n",
    "retorne o número de ocorrências do primeiro elemento da lista\n",
    "retorne a média dos elementos\n",
    "retorne o valor mais próximo da média dos elementos \n",
    "retorne a soma dos elementos com valor negativo - retorne a quantidade de vizinhos iguais\n"
   ]
  },
  {
   "cell_type": "code",
   "execution_count": 13,
   "metadata": {},
   "outputs": [
    {
     "name": "stdout",
     "output_type": "stream",
     "text": [
      "Maior = 10\n",
      "Soma = 55\n",
      "Ocorrências de 1 = 1\n",
      "Média da lista 5.5\n"
     ]
    }
   ],
   "source": [
    "lista = [1,2,3,4,5,6,7,8,9,10]\n",
    "maior = max(lista)\n",
    "print(f'Maior = {max(lista)}')\n",
    "print(f'Soma = {sum(lista)}')\n",
    "print(f'Ocorrências de {lista[0]} = {lista.count(lista[0])}')\n",
    "print(f'Média da lista {sum(lista)/len(lista)}')\n",
    "print"
   ]
  },
  {
   "cell_type": "markdown",
   "metadata": {
    "collapsed": true
   },
   "source": [
    "#### 14 Faça um programa que receba duas listas e retorne True se são iguais ou False\n",
    "caso contrario.\n",
    "Duas listas são iguais se possuem os mesmos valores e na mesma ordem."
   ]
  },
  {
   "cell_type": "code",
   "execution_count": 6,
   "metadata": {},
   "outputs": [
    {
     "name": "stdout",
     "output_type": "stream",
     "text": [
      "Listas diferentes\n"
     ]
    }
   ],
   "source": [
    "lista1 = [22,34,456,42,678,5446,509]\n",
    "lista2 = [22,34,456,42,678,5446,509]\n",
    "\n",
    "if (lista1==lista2):\n",
    "    print(\"Listas iguais\")\n",
    "else:\n",
    "    print(\"Listas diferentes\")\n"
   ]
  },
  {
   "cell_type": "markdown",
   "metadata": {
    "collapsed": true
   },
   "source": [
    "#### 15 Faça um programa que receba duas listas e retorne True se têm os mesmos\n",
    "elementos ou False caso contrário\n",
    "Duas listas possuem os mesmos elementos quando são compostas pelos mesmos\n",
    "valores, mas não obrigatoriamente na mesma ordem."
   ]
  },
  {
   "cell_type": "code",
   "execution_count": 16,
   "metadata": {},
   "outputs": [
    {
     "name": "stdout",
     "output_type": "stream",
     "text": [
      "Listas iguais [22, 34, 42, 456, 509, 678, 5446]\n"
     ]
    }
   ],
   "source": [
    "lista1 = [22,34,456,42,678,5446,509]\n",
    "lista2 = [22,34,509,456,42,678,5446]\n",
    "\n",
    "listaTemp1 = lista1\n",
    "listaTemp2 = lista2\n",
    "\n",
    "listaTemp1.sort()\n",
    "listaTemp2.sort()\n",
    "\n",
    "if (listaTemp1 ==listaTemp2):\n",
    "    print(\"Listas iguais\")\n",
    "else:\n",
    "    print(\"Listas diferentes\")\n"
   ]
  },
  {
   "cell_type": "markdown",
   "metadata": {
    "collapsed": true
   },
   "source": [
    "#### 16 Faça um programa que percorre uma lista com o seguinte formato: [['Brasil',\n",
    "'Italia', [10, 9]], ['Brasil', 'Espanha', [5, 7]], ['Italia', 'Espanha', [7,8]]]. Essa lista indica o\n",
    "número de faltas que cada time fez em cada jogo. Na lista acima, no jogo entre Brasil\n",
    "e Itália, o Brasil fez 10 faltas e a Itália fez 9.\n",
    "O programa deve imprimir na tela:\n",
    "- o total de faltas do campeonato\n",
    "- o time que fez mais faltas\n",
    "- o time que fez menos faltas"
   ]
  },
  {
   "cell_type": "code",
   "execution_count": 51,
   "metadata": {},
   "outputs": [
    {
     "name": "stdout",
     "output_type": "stream",
     "text": [
      "Total de faltas do jogo: 52\n",
      "Time com mais faltas:  Italia\n",
      "Time com menos faltas:  Espanha\n"
     ]
    }
   ],
   "source": [
    "listaFaltas = [['Brasil',\n",
    "'Italia', [10, 9]], ['Brasil', 'Espanha', [5, 6]], ['Italia', 'Espanha', [7,8]]]\n",
    "\n",
    "print('Total de faltas do jogo:' ,sum(listaFaltas[0][2])+sum(listaFaltas[1][2])+sum(listaFaltas[1][2])+sum(listaFaltas[1][2]))\n",
    "\n",
    "faltasBrasil = listaFaltas[0][2][0] +  listaFaltas[1][2][0];\n",
    "faltasItalia = listaFaltas[0][2][1] +  listaFaltas[2][2][0];\n",
    "faltasEspanha = listaFaltas[1][2][1] +  listaFaltas[2][2][1];\n",
    "\n",
    "if faltasBrasil>faltasItalia and faltasBrasil>faltasEspanha:\n",
    "    print(\"Time com mais faltas: \", listaFaltas[0][0])\n",
    "elif faltasEspanha>faltasItalia and faltasEspanha<faltasBrasil:\n",
    "    print(\"Time com mais faltas: \", listaFaltas[2][1])\n",
    "else:\n",
    "    print(\"Time com mais faltas: \", listaFaltas[0][1])\n",
    "\n",
    "if faltasBrasil<faltasItalia and faltasBrasil<faltasEspanha:\n",
    "    print(\"Time com menos faltas: \", listaFaltas[0][0])\n",
    "elif faltasEspanha<faltasItalia and faltasEspanha<faltasBrasil:\n",
    "    print(\"Time com menos faltas: \", listaFaltas[2][1])\n",
    "elif faltasItalia<faltasBrasil and faltasItalia<faltasEspanha:\n",
    "    print(\"Time com menos faltas: \", listaFaltas[0][1])"
   ]
  },
  {
   "cell_type": "markdown",
   "metadata": {},
   "source": [
    "#### 17 Escreva um programa que conta a quantidade de vogais em uma string e\n",
    "armazena tal quantidade em um dicionário, onde a chave é a vogal considerada."
   ]
  },
  {
   "cell_type": "code",
   "execution_count": 56,
   "metadata": {},
   "outputs": [
    {
     "name": "stdout",
     "output_type": "stream",
     "text": [
      "{'A': 3, 'E': 3, 'I': 3, 'O': 3, 'U': 2}\n"
     ]
    }
   ],
   "source": [
    "palavra = 'AEIOU AEIOU AEIO'\n",
    "vogais = 'AEIOU'\n",
    "print({i: palavra.count(i) for i in vogais if i in palavra})"
   ]
  },
  {
   "cell_type": "markdown",
   "metadata": {},
   "source": [
    "#### 18 Escreva um programa que lê̂duas notas de vários alunos e armazena tais notas\n",
    "em um dicionário, onde a chave é o nome do aluno. A entrada de dados deve\n",
    "terminar quando for lida uma string vazia como nome. Escreva uma função que\n",
    "retorna a média do aluno, dado seu nome."
   ]
  },
  {
   "cell_type": "code",
   "execution_count": 61,
   "metadata": {},
   "outputs": [
    {
     "name": "stdout",
     "output_type": "stream",
     "text": [
      "Digite o nome do aluno que deseja saber a média: Thiago\n",
      "5.0\n"
     ]
    }
   ],
   "source": [
    "notaAlunos = {'João':[10,8],'Kleber':[5,8],'Thiago':[2,8]}\n",
    "\n",
    "nomeAluno = input('Digite o nome do aluno que deseja saber a média: ')\n",
    "print((float(notaAlunos[nomeAluno][0]) + float(notaAlunos[nomeAluno][1]))/2);"
   ]
  },
  {
   "cell_type": "markdown",
   "metadata": {},
   "source": [
    "#### 19 Uma pista de Kart permite 10 voltas para cada um de 6 corredores. Escreva um programa que leia todos os tempos em segundos e os guarde em um dicionário, onde a chave é o nome do corredor. Ao final diga de quem foi a melhor volta da prova e em que volta; e ainda a classificação final em ordem (1o o campeão). O campeão é o que tem a menor média de tempos."
   ]
  },
  {
   "cell_type": "code",
   "execution_count": 8,
   "metadata": {},
   "outputs": [
    {
     "name": "stdout",
     "output_type": "stream",
     "text": [
      "Kleber [100, 9, 1, 8, 9, 1, 1, 7, 5, 7]\n",
      "[100, 9, 1, 8, 9, 1, 1, 7, 5, 7]\n"
     ]
    }
   ],
   "source": [
    "voltasKart = {'João':[10,9,11,8,9,12,13,7,15,17],'Kleber':[100,9,1,8,9,1,1,7,5,7],'Thiago':[10,9,11,8,9,2,13,7,12,10]}\n",
    "\n",
    "print (max(voltasKart, key=voltasKart.get), max(voltasKart.values()))\n",
    "max_value = max(voltasKart.values())\n",
    "print (max_value) "
   ]
  },
  {
   "cell_type": "code",
   "execution_count": null,
   "metadata": {},
   "outputs": [],
   "source": []
  },
  {
   "cell_type": "code",
   "execution_count": null,
   "metadata": {},
   "outputs": [],
   "source": []
  },
  {
   "cell_type": "code",
   "execution_count": null,
   "metadata": {},
   "outputs": [],
   "source": []
  },
  {
   "cell_type": "code",
   "execution_count": null,
   "metadata": {},
   "outputs": [],
   "source": []
  }
 ],
 "metadata": {
  "kernelspec": {
   "display_name": "Python 3",
   "language": "python",
   "name": "python3"
  },
  "language_info": {
   "codemirror_mode": {
    "name": "ipython",
    "version": 3
   },
   "file_extension": ".py",
   "mimetype": "text/x-python",
   "name": "python",
   "nbconvert_exporter": "python",
   "pygments_lexer": "ipython3",
   "version": "3.6.4"
  }
 },
 "nbformat": 4,
 "nbformat_minor": 2
}
